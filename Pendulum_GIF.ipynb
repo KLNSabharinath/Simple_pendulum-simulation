{
 "cells": [
  {
   "cell_type": "code",
   "execution_count": 4,
   "metadata": {},
   "outputs": [],
   "source": [
    "import numpy as np\n",
    "from PIL import Image, ImageDraw\n",
    "import matplotlib.pyplot as pyplot"
   ]
  },
  {
   "cell_type": "code",
   "execution_count": 5,
   "metadata": {},
   "outputs": [],
   "source": [
    "theta_start=np.pi/3\n",
    "theta_change=0.0"
   ]
  },
  {
   "cell_type": "code",
   "execution_count": 6,
   "metadata": {},
   "outputs": [],
   "source": [
    "def pendulum(theta, wid=200, hei=200, m=1, l=1):\n",
    "    img = Image.new(\"RGB\",(wid,hei),'White')\n",
    "    L = int(0.4*hei*l)\n",
    "    d = int(0.02*hei)*m**(1/3)\n",
    "    draw = ImageDraw.Draw(img)\n",
    "    \n",
    "    x0 = int(wid/2)\n",
    "    y0 = int(hei/2)\n",
    "    x = x0 + L*(np.sin(theta))\n",
    "    y = y0 + L*(np.cos(theta))\n",
    "    \n",
    "    draw.line([(x0,y0),(x,y)],fill=(0,0,0),width=1)\n",
    "    draw.ellipse([(x-d,y-d),(x+d,y+d)],fill=(0,0,255),outline=None)\n",
    "    return img"
   ]
  },
  {
   "cell_type": "code",
   "execution_count": 7,
   "metadata": {},
   "outputs": [],
   "source": [
    "img= pendulum(theta_start)\n",
    "img.show()"
   ]
  },
  {
   "cell_type": "code",
   "execution_count": 8,
   "metadata": {},
   "outputs": [],
   "source": [
    "def energy(theta,theta_change,m=1,l=1,g=9.8):\n",
    "    y = l*(np.cos(theta))           #height of the mass\n",
    "    epot = m*y*g                    #potential energy  \n",
    "    ekin = m/2*(l*theta_change)**2      #kinetic energy\n",
    "    return epot, ekin"
   ]
  },
  {
   "cell_type": "code",
   "execution_count": 9,
   "metadata": {},
   "outputs": [
    {
     "name": "stdout",
     "output_type": "stream",
     "text": [
      "potential energy: 4.900\n",
      "kinetic energy: 0.0\n"
     ]
    }
   ],
   "source": [
    "epot,ekin=energy(theta_start, theta_change)\n",
    "print('potential energy: '+str(epot)[:5])\n",
    "print('kinetic energy: '+str(ekin)[:5])"
   ]
  },
  {
   "cell_type": "code",
   "execution_count": 10,
   "metadata": {},
   "outputs": [],
   "source": [
    "def trajectory(theta_start, theta_change, iter=1000, dt=0.1, g=9.8, l=1):\n",
    "    phase_traject=np.zeros((iter,2))                            #phase-space trajectory\n",
    "    phase_traject[0,:] = np.array([theta_start,theta_change])\n",
    "    \n",
    "    for i in range(iter-1):\n",
    "        theta_dd = -(g/l)*np.sin(phase_traject[i,0])\n",
    "        phase_traject[i+1,1] = phase_traject[i,1] + dt*theta_dd\n",
    "        phase_traject[i+1,0] = phase_traject[i,0] + dt*phase_traject[i,1]\n",
    "    return phase_traject"
   ]
  },
  {
   "cell_type": "code",
   "execution_count": 19,
   "metadata": {},
   "outputs": [],
   "source": [
    "frames_per_sec = 20\n",
    "frame_every=(1/(dt*(frames_per_sec)))"
   ]
  },
  {
   "cell_type": "code",
   "execution_count": 131,
   "metadata": {},
   "outputs": [],
   "source": [
    "frames = []\n",
    "def render_traject(phase_traject, m=1, l=1, g=9.8, save_path='', frame_every =1):\n",
    "    #frames=[]\n",
    "    \n",
    "    for i in range(phase_traject.shape[0]):\n",
    "        if i % frame_every == 0:\n",
    "            theta=phase_traject[i,0]\n",
    "            theta_d=phase_traject[i,1]\n",
    "            \n",
    "            img=pendulum(theta,wid=200,hei=200,m=m,l=l)\n",
    "            frames.append(img)\n",
    "            name= r\"C:\\Users\\DELL\\Desktop\\simulation\\images_\" + str(i) + '.jpg'\n",
    "            img.save(name,'JPEG')\n",
    "            "
   ]
  },
  {
   "cell_type": "code",
   "execution_count": 132,
   "metadata": {},
   "outputs": [],
   "source": [
    "render_traject(phase_traject, frame_every = frame_every)"
   ]
  }
 ],
 "metadata": {
  "kernelspec": {
   "display_name": "Python 3",
   "language": "python",
   "name": "python3"
  },
  "language_info": {
   "codemirror_mode": {
    "name": "ipython",
    "version": 3
   },
   "file_extension": ".py",
   "mimetype": "text/x-python",
   "name": "python",
   "nbconvert_exporter": "python",
   "pygments_lexer": "ipython3",
   "version": "3.6.5"
  }
 },
 "nbformat": 4,
 "nbformat_minor": 2
}
